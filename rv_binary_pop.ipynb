{
 "cells": [
  {
   "cell_type": "markdown",
   "metadata": {},
   "source": [
    "## Binary population synthesis model for spectroscopic binaries"
   ]
  },
  {
   "cell_type": "code",
   "execution_count": 2,
   "metadata": {},
   "outputs": [],
   "source": [
    "import numpy as np\n",
    "import matplotlib.pyplot as plt\n",
    "import matplotlib as mpl\n",
    "import pandas as pd\n",
    "import makebinariesrv as rvbin\n",
    "from sys import exit\n",
    "from astropy.table import Table\n",
    "from scipy.stats import reciprocal\n",
    "from scipy.special import loggamma"
   ]
  },
  {
   "cell_type": "code",
   "execution_count": 45,
   "metadata": {},
   "outputs": [],
   "source": [
    "def semimajoraxis(n, mean, std, ashape, alim):\n",
    "    '''Select semi-major axis from eith a lognormal, gaussian or flat\n",
    "        distribution.'''\n",
    "    if ashape == \"lognormal\":\n",
    "        var = std**2\n",
    "        mu = np.log(mean**2/(np.sqrt(var+mean**2)))\n",
    "        sigma = np.sqrt(np.log(1+(var/(mean**2))))\n",
    "        a = np.exp(mu + sigma*np.random.normal(size=n))\n",
    "    elif ashape == \"gaussian\":\n",
    "        mu = mean\n",
    "        sigma = std\n",
    "        a = np.random.normal(loc=mu, scale=sigma, size=n)\n",
    "    elif ashape == \"flat\":\n",
    "        a = np.random.uniform(alim[0],alim[1],size=n)\n",
    "    return a\n",
    "        \n",
    "def eccentricity(n):\n",
    "    '''Select value for eccentricity.'''\n",
    "    ecc = np.random.uniform(0, 0.98, n)\n",
    "    return ecc\n",
    "\n",
    "# def masses(self):\n",
    "#     '''Generate the masses for the two stars.'''\n",
    "#     m1 = np.random.choice(all_objects['m1'], size=self.n)\n",
    "#     m2 = np.random.choice(all_objects['m2'], size=self.n)\n",
    "    \n",
    "# def errors(self):\n",
    "#     '''Errors on the fake rv measurements from the real data distribution.'''\n",
    "#     err_rv1 = np.random.choice(all_objects['errors'],size=self.n)\n",
    "#     err_rv2 = np.random.choice(all_objects['errors'],size=self.n)\n",
    "\n",
    "# def distance(self):\n",
    "#     '''Select the distance in kpc.'''\n",
    "#     if self.dshape == \"flat\":\n",
    "#         self.dist = np.random.uniform(self.dlim[0],self.dlim[1],size=self.n)\n",
    "#     elif self.dshape == \"obs\":\n",
    "#         dists = all_objects['dist']\n",
    "#         self.dist = np.abs(np.random.choice(dists,size=self.n))\n",
    "\n",
    "# def phase_params(self):\n",
    "#     '''Select the inclination, orientation and mean anomaly of the system.'''\n",
    "#     self.inc = np.arcsin(np.random.uniform(size=self.n))\n",
    "#     self.phi = np.random.uniform(size=self.n)*2*np.pi\n",
    "#     self.meani = np.random.uniform(size=self.n)*2*np.pi"
   ]
  },
  {
   "cell_type": "code",
   "execution_count": 47,
   "metadata": {},
   "outputs": [
    {
     "data": {
      "image/png": "[encoded data removed]",
      "text/plain": [
       "<Figure size 432x288 with 1 Axes>"
      ]
     },
     "metadata": {
      "needs_background": "light"
     },
     "output_type": "display_data"
    }
   ],
   "source": [
    "n = 1000\n",
    "mu = 25\n",
    "std = 10\n",
    "ashape = \"lognormal\"\n",
    "alim = [5, 100]\n",
    "\n",
    "a = semimajoraxis(n, mu, std, ashape, alim)\n",
    "fig, ax = plt.subplots()\n",
    "ax.hist(a, bins=20)\n",
    "plt.show()"
   ]
  },
  {
   "cell_type": "code",
   "execution_count": null,
   "metadata": {},
   "outputs": [],
   "source": []
  }
 ],
 "metadata": {
  "kernelspec": {
   "display_name": "Python 3",
   "language": "python",
   "name": "python3"
  },
  "language_info": {
   "codemirror_mode": {
    "name": "ipython",
    "version": 3
   },
   "file_extension": ".py",
   "mimetype": "text/x-python",
   "name": "python",
   "nbconvert_exporter": "python",
   "pygments_lexer": "ipython3",
   "version": "3.10.12"
  }
 },
 "nbformat": 4,
 "nbformat_minor": 2
}
